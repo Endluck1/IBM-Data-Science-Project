{
 "cells": [
  {
   "cell_type": "markdown",
   "id": "28e93d87",
   "metadata": {},
   "source": [
    "# Data Science Tools and Ecosystem"
   ]
  },
  {
   "cell_type": "code",
   "execution_count": null,
   "id": "f1477790",
   "metadata": {
    "scrolled": true
   },
   "outputs": [],
   "source": [
    "In this notebook, Data Science Tools and Ecosystem are summarized."
   ]
  },
  {
   "cell_type": "code",
   "execution_count": null,
   "id": "581d29f0",
   "metadata": {},
   "outputs": [],
   "source": [
    "Some of the popular languages that Data Scientists use are:\n",
    "1.PYTHON\n",
    "2.SQL\n",
    "3.R\n",
    "4.JULİA"
   ]
  },
  {
   "cell_type": "code",
   "execution_count": null,
   "id": "c8a312f1",
   "metadata": {},
   "outputs": [],
   "source": [
    "Some of the commonly used libraries used by Data Scientists incluZde:\n",
    "1.NUMPY\n",
    "2.PANDAS\n",
    "3.SEABORN\n",
    "4.SCİKİT-LEARN\n",
    "5.MATPLOTLİB\n",
    "6.TENSORFLOW\n",
    "7.KERAS\n",
    "8.PYTORCH\n",
    "9.SCİPY"
   ]
  },
  {
   "cell_type": "markdown",
   "id": "62dd2691",
   "metadata": {},
   "source": [
    "| Data Science Tools |\n",
    "|-------------------|\n",
    "| Jupyter Notebook           |\n",
    "| Pycharm            |\n",
    "| Spyder           |\n"
   ]
  },
  {
   "cell_type": "markdown",
   "id": "0916a97e",
   "metadata": {},
   "source": [
    "Below are a few examples of evaluating arithmetic expressions in Python"
   ]
  },
  {
   "cell_type": "code",
   "execution_count": 5,
   "id": "8bb7755a",
   "metadata": {},
   "outputs": [
    {
     "data": {
      "text/plain": [
       "17"
      ]
     },
     "execution_count": 5,
     "metadata": {},
     "output_type": "execute_result"
    }
   ],
   "source": [
    "#This a simple arithmetic expression to mutiply then add integers\n",
    "(3*4)+5"
   ]
  },
  {
   "cell_type": "code",
   "execution_count": 6,
   "id": "1fb53507",
   "metadata": {},
   "outputs": [
    {
     "data": {
      "text/plain": [
       "3.3333333333333335"
      ]
     },
     "execution_count": 6,
     "metadata": {},
     "output_type": "execute_result"
    }
   ],
   "source": [
    "#This will convert 200 minutes to hours by diving by 60\n",
    "hours = 200/60\n",
    "hours"
   ]
  },
  {
   "cell_type": "markdown",
   "id": "4a3551e8",
   "metadata": {},
   "source": [
    "**Objectives:**\n",
    "\n",
    "- List popular languages for Data Science.\n",
    "- Explain how to evaluate arithmetic expressions.\n",
    "- Convert minutes to hours.\n",
    "\n"
   ]
  },
  {
   "cell_type": "markdown",
   "id": "dbfd44b9",
   "metadata": {},
   "source": [
    "## Author\n",
    "Your Name:Fatih Çakır\n"
   ]
  },
  {
   "cell_type": "code",
   "execution_count": null,
   "id": "9978a3b0",
   "metadata": {},
   "outputs": [],
   "source": []
  }
 ],
 "metadata": {
  "kernelspec": {
   "display_name": "Python 3 (ipykernel)",
   "language": "python",
   "name": "python3"
  },
  "language_info": {
   "codemirror_mode": {
    "name": "ipython",
    "version": 3
   },
   "file_extension": ".py",
   "mimetype": "text/x-python",
   "name": "python",
   "nbconvert_exporter": "python",
   "pygments_lexer": "ipython3",
   "version": "3.9.7"
  }
 },
 "nbformat": 4,
 "nbformat_minor": 5
}
